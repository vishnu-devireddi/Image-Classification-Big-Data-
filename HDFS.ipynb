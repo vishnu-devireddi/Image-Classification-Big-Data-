{
 "cells": [
  {
   "cell_type": "markdown",
   "metadata": {},
   "source": [
    "# HDFS Connection Library"
   ]
  },
  {
   "cell_type": "code",
   "execution_count": 1,
   "metadata": {},
   "outputs": [],
   "source": [
    "def get_hdfs(namenode = '10.3.0.2', port = 8020):\n",
    "    \"\"\"\n",
    "    Return a HDFS connection. Note: this API is deprecated in pyarrow\n",
    "    \"\"\"\n",
    "    import pyarrow as pa\n",
    "    import os\n",
    "\n",
    "    os.environ['HADOOP_HOME'] = f\"/opt/cloudera/parcels/CDH\"\n",
    "    os.environ['JAVA_HOME'] = \"/usr/java/jdk1.8.0_181-cloudera\"\n",
    "    os.environ['ARROW_LIBHDFS_DIR'] = \"/opt/cloudera/parcels/CDH/lib64\"\n",
    "               \n",
    "    hdfs = pa.hdfs.HadoopFileSystem(namenode, port)\n",
    "    hdfs.connect()\n",
    "    \n",
    "    return hdfs"
   ]
  },
  {
   "cell_type": "code",
   "execution_count": null,
   "metadata": {},
   "outputs": [],
   "source": [
    "def get_fs(namenode = '10.3.0.2', port = 8020):\n",
    "    \"\"\"\n",
    "    Returns generic Pyarrow filesystem object connected to HDFS.\n",
    "    \n",
    "    example usage: hdfs.get_target_stats(fs.FileSelector('/data/google_open_image', recursive = True))\n",
    "    \n",
    "    This is the hdfs interface going forward as the other is deprecated.\n",
    "    \"\"\"\n",
    "    from pyarrow import fs\n",
    "    \n",
    "    hdfs_options = fs.HdfsOptions(endpoint = (namenode, port), driver = 'libhdfs')\n",
    "    hdfs = fs.HadoopFileSystem(hdfs_options)\n",
    "    \n",
    "    return hdfs"
   ]
  }
 ],
 "metadata": {
  "kernelspec": {
   "display_name": "Python 3",
   "language": "python",
   "name": "python3"
  },
  "language_info": {
   "codemirror_mode": {
    "name": "ipython",
    "version": 3
   },
   "file_extension": ".py",
   "mimetype": "text/x-python",
   "name": "python",
   "nbconvert_exporter": "python",
   "pygments_lexer": "ipython3",
   "version": "3.6.8"
  }
 },
 "nbformat": 4,
 "nbformat_minor": 4
}
