{
 "cells": [
  {
   "cell_type": "code",
   "execution_count": 1,
   "metadata": {},
   "outputs": [
    {
     "name": "stdout",
     "output_type": "stream",
     "text": [
      "importing Jupyter notebook from /scratch/data603/yk98337/data603/HDFS.ipynb\n"
     ]
    },
    {
     "data": {
      "text/plain": [
       "['densenet',\n",
       " 'efficientnet',\n",
       " 'inception_resnet_v2',\n",
       " 'inception_v3',\n",
       " 'mobilenet',\n",
       " 'mobilenet_v2',\n",
       " 'mobilenet_v3',\n",
       " 'nasnet',\n",
       " 'resnet',\n",
       " 'vgg16',\n",
       " 'vgg19',\n",
       " 'xception']"
      ]
     },
     "execution_count": 1,
     "metadata": {},
     "output_type": "execute_result"
    }
   ],
   "source": [
    "import import_ipynb\n",
    "from data603 import HDFS\n",
    "\n",
    "httpdfs = HDFS.get_httpdfs()\n",
    "httpdfs.list('/data/keras_models')"
   ]
  },
  {
   "cell_type": "code",
   "execution_count": 2,
   "metadata": {},
   "outputs": [],
   "source": [
    "hdfs = HDFS.get_hdfs()"
   ]
  },
  {
   "cell_type": "code",
   "execution_count": 4,
   "metadata": {},
   "outputs": [
    {
     "data": {
      "text/plain": [
       "['vgg16_weights_tf_dim_ordering_tf_kernels.h5',\n",
       " 'resnet50_weights_tf_dim_ordering_tf_kernels.h5',\n",
       " 'mobilenet_1_0_224_tf.h5']"
      ]
     },
     "execution_count": 4,
     "metadata": {},
     "output_type": "execute_result"
    }
   ],
   "source": [
    "# Create a local directory\n",
    "import os\n",
    "keras_data = './keras_data'\n",
    "if(not os.path.exists(keras_data)):\n",
    "    os.mkdir(keras_data)\n",
    "\n",
    "# download file from hdfs\n",
    "mobilenet_weight_file = 'mobilenet_1_0_224_tf.h5'\n",
    "local_weight_file = f\"{keras_data}/{mobilenet_weight_file}\"\n",
    "if(not os.path.exists(local_weight_file)):\n",
    "    httpdfs.download(f\"/data/keras_models/mobilenet/{mobilenet_weight_file}\", local_weight_file)\n",
    "\n",
    "# check local file exists\n",
    "os.listdir(keras_data)"
   ]
  },
  {
   "cell_type": "code",
   "execution_count": 5,
   "metadata": {},
   "outputs": [
    {
     "name": "stdout",
     "output_type": "stream",
     "text": [
      "importing Jupyter notebook from /scratch/data603/yk98337/data603/SparkLauncher.ipynb\n",
      "Creating Spark Configuration\n",
      "Creating Spark Configuration\n",
      "Setting Environment Variables\n",
      "Creating Spark Session: yk98337_data603_spark_session\n"
     ]
    }
   ],
   "source": [
    "import import_ipynb\n",
    "from data603 import SparkLauncher\n",
    "\n",
    "# get a configuration object\n",
    "conf = SparkLauncher.get_spark_conf()\n",
    "\n",
    "# add a file to the configuration that will get copied to all the nodes on the cluster\n",
    "conf.set('spark.yarn.dist.files', './keras_data/mobilenet_1_0_224_tf.h5')\n",
    "\n",
    "# launch the cluster using the configuration\n",
    "spark = SparkLauncher.get_spark_session(pack_venv = False, conf = conf)"
   ]
  },
  {
   "cell_type": "code",
   "execution_count": 6,
   "metadata": {},
   "outputs": [],
   "source": [
    "cats = spark.read.parquet('/user/yk98337/land_mammals.parquet')"
   ]
  },
  {
   "cell_type": "code",
   "execution_count": 7,
   "metadata": {},
   "outputs": [],
   "source": [
    "cats = cats.filter(\"Label = 'Lion' OR Label = 'Tiger'\")"
   ]
  },
  {
   "cell_type": "code",
   "execution_count": 39,
   "metadata": {},
   "outputs": [],
   "source": [
    "def evaluate_chip(chip_data):\n",
    "    import io\n",
    "    import os\n",
    "    import numpy as np\n",
    "    from tensorflow.keras.applications.mobilenet import MobileNet\n",
    "    from tensorflow.keras.applications.mobilenet import preprocess_input\n",
    "    from tensorflow.keras.applications.mobilenet import decode_predictions\n",
    "    from tensorflow.keras.preprocessing.image import load_img\n",
    "    from tensorflow.keras.preprocessing.image import img_to_array\n",
    "\n",
    "    # Load the image\n",
    "    img = load_img(io.BytesIO(chip_data), target_size = (224,224))\n",
    "\n",
    "    # Prepare Image\n",
    "    image = img_to_array(img)\n",
    "    image = image.reshape((1, image.shape[0], image.shape[1], image.shape[2]))\n",
    "    image = preprocess_input(image)\n",
    "\n",
    "    # Load Model Data\n",
    "    model = MobileNet(weights = f'{os.getcwd()}/mobilenet_1_0_224_tf.h5',\n",
    "                 include_top = True,\n",
    "                 alpha = 1.0)\n",
    "    \n",
    "    # Run prediction\n",
    "    yhat = model.predict(image)\n",
    "\n",
    "    # Decode Predictions\n",
    "    features = np.argmax(yhat)\n",
    "\n",
    "    \n",
    "    return int(features)"
   ]
  },
  {
   "cell_type": "code",
   "execution_count": 40,
   "metadata": {},
   "outputs": [],
   "source": [
    "# make a UDF\n",
    "from pyspark.sql.types import *\n",
    "from pyspark.sql.functions import udf\n",
    "\n",
    "schema = IntegerType()\n",
    "\n",
    "udf_evaluate_chip = udf(evaluate_chip, schema)\n"
   ]
  },
  {
   "cell_type": "code",
   "execution_count": 41,
   "metadata": {},
   "outputs": [],
   "source": [
    "# get rid of the original image data\n",
    "cats = cats.drop('Data')\n",
    "\n",
    "# evaluate image chips\n",
    "cats = cats.withColumn(\"features\", udf_evaluate_chip(\"chip_data\"))"
   ]
  },
  {
   "cell_type": "code",
   "execution_count": 42,
   "metadata": {},
   "outputs": [],
   "source": [
    "cats5 = cats.select('ImageID','Label','features')"
   ]
  },
  {
   "cell_type": "code",
   "execution_count": 43,
   "metadata": {},
   "outputs": [
    {
     "name": "stdout",
     "output_type": "stream",
     "text": [
      "+----------------+-----+--------+\n",
      "|         ImageID|Label|features|\n",
      "+----------------+-----+--------+\n",
      "|00adbf6bf9f1848f| Lion|     245|\n",
      "|0357cf336140cbe4|Tiger|     292|\n",
      "|0401e49c378ffe99| Lion|     996|\n",
      "|0bef987277f0189b|Tiger|     292|\n",
      "|0e441053803b7dc5|Tiger|     292|\n",
      "+----------------+-----+--------+\n",
      "only showing top 5 rows\n",
      "\n"
     ]
    }
   ],
   "source": [
    "cats5.show(5)"
   ]
  },
  {
   "cell_type": "code",
   "execution_count": 44,
   "metadata": {},
   "outputs": [],
   "source": [
    "df = cats5.toPandas()\n",
    "a = df[df['Label'] == Lion]['features']"
   ]
  },
  {
   "cell_type": "code",
   "execution_count": 46,
   "metadata": {},
   "outputs": [
    {
     "ename": "TypeError",
     "evalue": "scatter() missing 1 required positional argument: 'y'",
     "output_type": "error",
     "traceback": [
      "\u001b[0;31m---------------------------------------------------------------------------\u001b[0m",
      "\u001b[0;31mTypeError\u001b[0m                                 Traceback (most recent call last)",
      "\u001b[0;32m<ipython-input-46-2f8156f70b06>\u001b[0m in \u001b[0;36m<module>\u001b[0;34m\u001b[0m\n\u001b[1;32m      1\u001b[0m \u001b[0;32mimport\u001b[0m \u001b[0mmatplotlib\u001b[0m\u001b[0;34m.\u001b[0m\u001b[0mpyplot\u001b[0m \u001b[0;32mas\u001b[0m \u001b[0mplt\u001b[0m\u001b[0;34m\u001b[0m\u001b[0;34m\u001b[0m\u001b[0m\n\u001b[0;32m----> 2\u001b[0;31m \u001b[0mplt\u001b[0m\u001b[0;34m.\u001b[0m\u001b[0mscatter\u001b[0m\u001b[0;34m(\u001b[0m\u001b[0mdf\u001b[0m\u001b[0;34m[\u001b[0m\u001b[0;34m'features'\u001b[0m\u001b[0;34m]\u001b[0m\u001b[0;34m)\u001b[0m\u001b[0;34m\u001b[0m\u001b[0;34m\u001b[0m\u001b[0m\n\u001b[0m",
      "\u001b[0;31mTypeError\u001b[0m: scatter() missing 1 required positional argument: 'y'"
     ]
    }
   ],
   "source": [
    "import matplotlib.pyplot as plt\n",
    "plt.scatter(df['features'])"
   ]
  },
  {
   "cell_type": "code",
   "execution_count": 13,
   "metadata": {},
   "outputs": [],
   "source": [
    "cats1 = cats.select('ImageID','Label','chip_data',cats.prediction[0],cats.prediction[1])"
   ]
  },
  {
   "cell_type": "code",
   "execution_count": 14,
   "metadata": {},
   "outputs": [],
   "source": [
    "cats1 = cats1.withColumnRenamed('prediction[0]','predicted_label')\n",
    "cats1 = cats1.withColumnRenamed('prediction[1]','predicted_score')"
   ]
  },
  {
   "cell_type": "code",
   "execution_count": 15,
   "metadata": {},
   "outputs": [
    {
     "name": "stderr",
     "output_type": "stream",
     "text": [
      "----------------------------------------\n",
      "Exception happened during processing of request from ('127.0.0.1', 51714)\n",
      "Traceback (most recent call last):\n",
      "  File \"/usr/lib64/python3.6/socketserver.py\", line 320, in _handle_request_noblock\n",
      "    self.process_request(request, client_address)\n",
      "  File \"/usr/lib64/python3.6/socketserver.py\", line 351, in process_request\n",
      "    self.finish_request(request, client_address)\n",
      "  File \"/usr/lib64/python3.6/socketserver.py\", line 364, in finish_request\n",
      "    self.RequestHandlerClass(request, client_address, self)\n",
      "  File \"/usr/lib64/python3.6/socketserver.py\", line 724, in __init__\n",
      "    self.handle()\n",
      "  File \"/scratch/data603_virtualenv/yk98337/lib64/python3.6/site-packages/pyspark/accumulators.py\", line 267, in handle\n",
      "    poll(authenticate_and_accum_updates)\n",
      "  File \"/scratch/data603_virtualenv/yk98337/lib64/python3.6/site-packages/pyspark/accumulators.py\", line 239, in poll\n",
      "    r, _, _ = select.select([self.rfile], [], [], 1)\n",
      "ValueError: filedescriptor out of range in select()\n",
      "----------------------------------------\n"
     ]
    }
   ],
   "source": [
    "preds = cats1.select('predicted_label','Label').toPandas()"
   ]
  },
  {
   "cell_type": "code",
   "execution_count": 16,
   "metadata": {},
   "outputs": [],
   "source": [
    "preds['Label'] = preds['Label'].str.lower()"
   ]
  },
  {
   "cell_type": "code",
   "execution_count": 17,
   "metadata": {},
   "outputs": [
    {
     "data": {
      "text/plain": [
       "0.6515668631709587"
      ]
     },
     "execution_count": 17,
     "metadata": {},
     "output_type": "execute_result"
    }
   ],
   "source": [
    "from sklearn.metrics import accuracy_score\n",
    "accuracy_score(preds['predicted_label'],preds['Label'])"
   ]
  },
  {
   "cell_type": "code",
   "execution_count": null,
   "metadata": {},
   "outputs": [],
   "source": []
  }
 ],
 "metadata": {
  "kernelspec": {
   "display_name": "Python 3",
   "language": "python",
   "name": "python3"
  },
  "language_info": {
   "codemirror_mode": {
    "name": "ipython",
    "version": 3
   },
   "file_extension": ".py",
   "mimetype": "text/x-python",
   "name": "python",
   "nbconvert_exporter": "python",
   "pygments_lexer": "ipython3",
   "version": "3.6.8"
  }
 },
 "nbformat": 4,
 "nbformat_minor": 4
}
